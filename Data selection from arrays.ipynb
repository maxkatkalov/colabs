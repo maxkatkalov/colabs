{
 "cells": [
  {
   "cell_type": "code",
   "execution_count": 1,
   "metadata": {},
   "outputs": [],
   "source": [
    "import numpy as np"
   ]
  },
  {
   "cell_type": "markdown",
   "metadata": {},
   "source": [
    "#### Скопіюй у нього масив кількості кліків по рекламному банеру, який ти створив(-ла) у минулому завданні."
   ]
  },
  {
   "cell_type": "code",
   "execution_count": 5,
   "metadata": {},
   "outputs": [
    {
     "data": {
      "text/plain": [
       "array([8371, 1961, 3663, 1078, 5468, 2155, 6302, 3986, 6419, 4824, 4938,\n",
       "       2792, 5575, 4552, 2259, 1602, 8175, 4233, 2500, 7555, 4888, 5294,\n",
       "       8052, 8539, 4278, 8333, 9160, 8718, 5264, 2246, 7852, 4144, 1731,\n",
       "       6044, 3425, 2856,  683, 6372,  907, 3347, 4200, 1223, 1688, 9238,\n",
       "        237, 7163, 9522, 1162, 6642, 2196, 4217, 8258, 3880, 6559, 3495,\n",
       "       7149, 6228, 8042, 7694, 1738])"
      ]
     },
     "execution_count": 5,
     "metadata": {},
     "output_type": "execute_result"
    }
   ],
   "source": [
    "ad_clicks = np.random.randint(100, 10000, 60)\n",
    "ad_clicks"
   ]
  },
  {
   "cell_type": "markdown",
   "metadata": {},
   "source": [
    "##### Виведи на екран кількість кліків:\n",
    "* у перший день;\n",
    "* в останній день;\n",
    "* у перші 10 днів;\n",
    "* за останній місяць."
   ]
  },
  {
   "cell_type": "code",
   "execution_count": 6,
   "metadata": {},
   "outputs": [
    {
     "data": {
      "text/plain": [
       "np.int64(8371)"
      ]
     },
     "execution_count": 6,
     "metadata": {},
     "output_type": "execute_result"
    }
   ],
   "source": [
    "ad_clicks[0]"
   ]
  },
  {
   "cell_type": "code",
   "execution_count": 7,
   "metadata": {},
   "outputs": [
    {
     "data": {
      "text/plain": [
       "np.int64(1738)"
      ]
     },
     "execution_count": 7,
     "metadata": {},
     "output_type": "execute_result"
    }
   ],
   "source": [
    "ad_clicks[-1]"
   ]
  },
  {
   "cell_type": "code",
   "execution_count": 10,
   "metadata": {},
   "outputs": [
    {
     "data": {
      "text/plain": [
       "array([8371, 1961, 3663, 1078, 5468, 2155, 6302, 3986, 6419, 4824])"
      ]
     },
     "execution_count": 10,
     "metadata": {},
     "output_type": "execute_result"
    }
   ],
   "source": [
    "ad_clicks[:10]"
   ]
  },
  {
   "cell_type": "code",
   "execution_count": 14,
   "metadata": {},
   "outputs": [
    {
     "data": {
      "text/plain": [
       "array([8371, 1961, 3663, 1078, 5468, 2155, 6302, 3986, 6419, 4824, 4938,\n",
       "       2792, 5575, 4552, 2259, 1602, 8175, 4233, 2500, 7555, 4888, 5294,\n",
       "       8052, 8539, 4278, 8333, 9160, 8718, 5264, 2246, 7852])"
      ]
     },
     "execution_count": 14,
     "metadata": {},
     "output_type": "execute_result"
    }
   ],
   "source": [
    "ad_clicks[:31]"
   ]
  },
  {
   "cell_type": "code",
   "execution_count": null,
   "metadata": {},
   "outputs": [],
   "source": []
  }
 ],
 "metadata": {
  "kernelspec": {
   "display_name": "Python 3",
   "language": "python",
   "name": "python3"
  },
  "language_info": {
   "codemirror_mode": {
    "name": "ipython",
    "version": 3
   },
   "file_extension": ".py",
   "mimetype": "text/x-python",
   "name": "python",
   "nbconvert_exporter": "python",
   "pygments_lexer": "ipython3",
   "version": "3.10.15"
  }
 },
 "nbformat": 4,
 "nbformat_minor": 2
}
