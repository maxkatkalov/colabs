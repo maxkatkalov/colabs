{
 "cells": [
  {
   "cell_type": "code",
   "execution_count": 2,
   "metadata": {},
   "outputs": [],
   "source": [
    "import numpy as np"
   ]
  },
  {
   "cell_type": "code",
   "execution_count": 3,
   "metadata": {},
   "outputs": [],
   "source": [
    "ad_clicks = np.random.randint(100, 10000, 60)"
   ]
  },
  {
   "cell_type": "code",
   "execution_count": 23,
   "metadata": {},
   "outputs": [
    {
     "data": {
      "text/plain": [
       "'Знайди середню: 5348.05 та медіанну кількість кліків на рекламному банері: 5439.5'"
      ]
     },
     "execution_count": 23,
     "metadata": {},
     "output_type": "execute_result"
    }
   ],
   "source": [
    "f'Знайди середню: {ad_clicks.mean()} та медіанну кількість кліків на рекламному банері: {np.median(ad_clicks)}' "
   ]
  },
  {
   "cell_type": "code",
   "execution_count": 39,
   "metadata": {},
   "outputs": [],
   "source": [
    "first_month = ad_clicks[:31].sum()\n",
    "last_month = ad_clicks[-31:].sum()\n",
    "max_clicks = ad_clicks.max()\n",
    "min_clicks = ad_clicks.min()\n",
    "price_per_click = 0.03\n",
    "daily_costs = ad_clicks * price_per_click"
   ]
  },
  {
   "cell_type": "code",
   "execution_count": 33,
   "metadata": {},
   "outputs": [
    {
     "data": {
      "text/plain": [
       "'Знайди сумарну кількість кліків за перші 30 днів: 178475 та за останні 30 днів: 146507'"
      ]
     },
     "execution_count": 33,
     "metadata": {},
     "output_type": "execute_result"
    }
   ],
   "source": [
    "f'Знайди сумарну кількість кліків за перші 30 днів: {first_month} та за останні 30 днів: {last_month}'"
   ]
  },
  {
   "cell_type": "code",
   "execution_count": 34,
   "metadata": {},
   "outputs": [
    {
     "data": {
      "text/plain": [
       "'Порахуй який із місяців був успішнішим: перший місяць'"
      ]
     },
     "execution_count": 34,
     "metadata": {},
     "output_type": "execute_result"
    }
   ],
   "source": [
    "f'Порахуй який із місяців був успішнішим: {\"перший місяць\" if first_month > last_month else \"останній місяць\"}'"
   ]
  },
  {
   "cell_type": "code",
   "execution_count": 36,
   "metadata": {},
   "outputs": [
    {
     "data": {
      "text/plain": [
       "'Порахуй максимальну: 9940 та мінімальну кількість кліків: 456, розмах вибірки: 9484.'"
      ]
     },
     "execution_count": 36,
     "metadata": {},
     "output_type": "execute_result"
    }
   ],
   "source": [
    "f'Порахуй максимальну: {max_clicks} та мінімальну кількість кліків: {min_clicks}, розмах вибірки: {max_clicks - min_clicks}.'"
   ]
  },
  {
   "cell_type": "code",
   "execution_count": 40,
   "metadata": {},
   "outputs": [
    {
     "data": {
      "text/plain": [
       "'Порахуй, якою була ціна реклами за кожен день: [167.61  60.72 157.65 255.24 252.12  33.39 238.08 180.09 241.26 262.71\\n 157.89  52.08 107.52  93.42 116.16 250.29 141.21 294.93 157.11 194.55\\n 175.59 122.22 253.68 224.94 158.76 188.82 277.95 127.56 287.73  15.6\\n 107.37 216.15  49.17 137.67  95.7  115.77 243.33 182.04 175.35 295.53\\n 278.31 139.59 293.04  72.09  14.43 188.22  16.95  22.17 187.86  91.59\\n 264.72 208.71  73.26  33.06 212.31 186.03 298.2  120.48  46.83  13.68], а також загальну ціну реклами: 9626.49'"
      ]
     },
     "execution_count": 40,
     "metadata": {},
     "output_type": "execute_result"
    }
   ],
   "source": [
    "f'Порахуй, якою була ціна реклами за кожен день: {daily_costs}, а також загальну ціну реклами: {daily_costs.sum()}'"
   ]
  },
  {
   "cell_type": "code",
   "execution_count": null,
   "metadata": {},
   "outputs": [],
   "source": []
  }
 ],
 "metadata": {
  "kernelspec": {
   "display_name": "Python 3",
   "language": "python",
   "name": "python3"
  },
  "language_info": {
   "codemirror_mode": {
    "name": "ipython",
    "version": 3
   },
   "file_extension": ".py",
   "mimetype": "text/x-python",
   "name": "python",
   "nbconvert_exporter": "python",
   "pygments_lexer": "ipython3",
   "version": "3.10.15"
  }
 },
 "nbformat": 4,
 "nbformat_minor": 2
}
