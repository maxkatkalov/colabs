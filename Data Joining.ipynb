{
 "cells": [
  {
   "cell_type": "code",
   "execution_count": 1,
   "metadata": {},
   "outputs": [],
   "source": [
    "import pandas as pd"
   ]
  },
  {
   "cell_type": "code",
   "execution_count": 3,
   "metadata": {},
   "outputs": [],
   "source": [
    "products = {\n",
    "    \"product_id\": [1, 2, 3, 4],\n",
    "    \"product_name\": [\"Laptop\", \"Tablet\", \"Smartphone\", \"Smartwatch\"],\n",
    "    \"category\": [\"Electronics\", \"Electronics\", \"Electronics\", \"Wearables\"],\n",
    "    \"price\": [1200, 300, 800, 250],\n",
    "}\n",
    "df_products = pd.DataFrame(products)\n",
    "\n",
    "\n",
    "order_details = {\n",
    "    \"order_id\": [101, 102, 103, 104, 105, 106, 107],\n",
    "    \"product_id\": [2, 2, 1, 2, 4, 1, 5],\n",
    "    \"customer_id\": [201, 202, 202, 204, 203, 201, 202],\n",
    "    \"quantity\": [1, 2, 1, 3, 2, 2, 4],\n",
    "}\n",
    "df_order_details = pd.DataFrame(order_details)\n"
   ]
  },
  {
   "cell_type": "code",
   "execution_count": 9,
   "metadata": {},
   "outputs": [],
   "source": [
    "inner_jo = df_order_details.merge(df_products, on=\"product_id\", how=\"inner\")"
   ]
  },
  {
   "cell_type": "code",
   "execution_count": 10,
   "metadata": {},
   "outputs": [
    {
     "data": {
      "text/plain": [
       "array(['Tablet', 'Laptop', 'Smartwatch'], dtype=object)"
      ]
     },
     "execution_count": 10,
     "metadata": {},
     "output_type": "execute_result"
    }
   ],
   "source": [
    "inner_jo.product_name.unique()"
   ]
  },
  {
   "cell_type": "markdown",
   "metadata": {},
   "source": [
    "#### Products which have been ordered: 'Tablet', 'Laptop', 'Smartwatch'."
   ]
  },
  {
   "cell_type": "markdown",
   "metadata": {},
   "source": [
    "#### Product which has not been ordered: `Smartphone`."
   ]
  },
  {
   "cell_type": "code",
   "execution_count": 11,
   "metadata": {},
   "outputs": [],
   "source": [
    "left_j = df_order_details.merge(df_products, on=\"product_id\", how=\"left\")"
   ]
  },
  {
   "cell_type": "code",
   "execution_count": 12,
   "metadata": {},
   "outputs": [
    {
     "data": {
      "text/html": [
       "<div>\n",
       "<style scoped>\n",
       "    .dataframe tbody tr th:only-of-type {\n",
       "        vertical-align: middle;\n",
       "    }\n",
       "\n",
       "    .dataframe tbody tr th {\n",
       "        vertical-align: top;\n",
       "    }\n",
       "\n",
       "    .dataframe thead th {\n",
       "        text-align: right;\n",
       "    }\n",
       "</style>\n",
       "<table border=\"1\" class=\"dataframe\">\n",
       "  <thead>\n",
       "    <tr style=\"text-align: right;\">\n",
       "      <th></th>\n",
       "      <th>order_id</th>\n",
       "      <th>product_id</th>\n",
       "      <th>customer_id</th>\n",
       "      <th>quantity</th>\n",
       "      <th>product_name</th>\n",
       "      <th>category</th>\n",
       "      <th>price</th>\n",
       "    </tr>\n",
       "  </thead>\n",
       "  <tbody>\n",
       "    <tr>\n",
       "      <th>0</th>\n",
       "      <td>101</td>\n",
       "      <td>2</td>\n",
       "      <td>201</td>\n",
       "      <td>1</td>\n",
       "      <td>Tablet</td>\n",
       "      <td>Electronics</td>\n",
       "      <td>300.0</td>\n",
       "    </tr>\n",
       "    <tr>\n",
       "      <th>1</th>\n",
       "      <td>102</td>\n",
       "      <td>2</td>\n",
       "      <td>202</td>\n",
       "      <td>2</td>\n",
       "      <td>Tablet</td>\n",
       "      <td>Electronics</td>\n",
       "      <td>300.0</td>\n",
       "    </tr>\n",
       "    <tr>\n",
       "      <th>2</th>\n",
       "      <td>103</td>\n",
       "      <td>1</td>\n",
       "      <td>202</td>\n",
       "      <td>1</td>\n",
       "      <td>Laptop</td>\n",
       "      <td>Electronics</td>\n",
       "      <td>1200.0</td>\n",
       "    </tr>\n",
       "    <tr>\n",
       "      <th>3</th>\n",
       "      <td>104</td>\n",
       "      <td>2</td>\n",
       "      <td>204</td>\n",
       "      <td>3</td>\n",
       "      <td>Tablet</td>\n",
       "      <td>Electronics</td>\n",
       "      <td>300.0</td>\n",
       "    </tr>\n",
       "    <tr>\n",
       "      <th>4</th>\n",
       "      <td>105</td>\n",
       "      <td>4</td>\n",
       "      <td>203</td>\n",
       "      <td>2</td>\n",
       "      <td>Smartwatch</td>\n",
       "      <td>Wearables</td>\n",
       "      <td>250.0</td>\n",
       "    </tr>\n",
       "    <tr>\n",
       "      <th>5</th>\n",
       "      <td>106</td>\n",
       "      <td>1</td>\n",
       "      <td>201</td>\n",
       "      <td>2</td>\n",
       "      <td>Laptop</td>\n",
       "      <td>Electronics</td>\n",
       "      <td>1200.0</td>\n",
       "    </tr>\n",
       "    <tr>\n",
       "      <th>6</th>\n",
       "      <td>107</td>\n",
       "      <td>5</td>\n",
       "      <td>202</td>\n",
       "      <td>4</td>\n",
       "      <td>NaN</td>\n",
       "      <td>NaN</td>\n",
       "      <td>NaN</td>\n",
       "    </tr>\n",
       "  </tbody>\n",
       "</table>\n",
       "</div>"
      ],
      "text/plain": [
       "   order_id  product_id  customer_id  quantity product_name     category  \\\n",
       "0       101           2          201         1       Tablet  Electronics   \n",
       "1       102           2          202         2       Tablet  Electronics   \n",
       "2       103           1          202         1       Laptop  Electronics   \n",
       "3       104           2          204         3       Tablet  Electronics   \n",
       "4       105           4          203         2   Smartwatch    Wearables   \n",
       "5       106           1          201         2       Laptop  Electronics   \n",
       "6       107           5          202         4          NaN          NaN   \n",
       "\n",
       "    price  \n",
       "0   300.0  \n",
       "1   300.0  \n",
       "2  1200.0  \n",
       "3   300.0  \n",
       "4   250.0  \n",
       "5  1200.0  \n",
       "6     NaN  "
      ]
     },
     "execution_count": 12,
     "metadata": {},
     "output_type": "execute_result"
    }
   ],
   "source": [
    "left_j"
   ]
  },
  {
   "cell_type": "code",
   "execution_count": 20,
   "metadata": {},
   "outputs": [
    {
     "data": {
      "text/html": [
       "<div>\n",
       "<style scoped>\n",
       "    .dataframe tbody tr th:only-of-type {\n",
       "        vertical-align: middle;\n",
       "    }\n",
       "\n",
       "    .dataframe tbody tr th {\n",
       "        vertical-align: top;\n",
       "    }\n",
       "\n",
       "    .dataframe thead th {\n",
       "        text-align: right;\n",
       "    }\n",
       "</style>\n",
       "<table border=\"1\" class=\"dataframe\">\n",
       "  <thead>\n",
       "    <tr style=\"text-align: right;\">\n",
       "      <th></th>\n",
       "      <th>product_id</th>\n",
       "      <th>product_name</th>\n",
       "      <th>category</th>\n",
       "      <th>price</th>\n",
       "    </tr>\n",
       "  </thead>\n",
       "  <tbody>\n",
       "    <tr>\n",
       "      <th>2</th>\n",
       "      <td>3</td>\n",
       "      <td>Smartphone</td>\n",
       "      <td>Electronics</td>\n",
       "      <td>800</td>\n",
       "    </tr>\n",
       "  </tbody>\n",
       "</table>\n",
       "</div>"
      ],
      "text/plain": [
       "   product_id product_name     category  price\n",
       "2           3   Smartphone  Electronics    800"
      ]
     },
     "execution_count": 20,
     "metadata": {},
     "output_type": "execute_result"
    }
   ],
   "source": [
    "df_products[~df_products.product_id.isin(left_j.product_id.unique())]"
   ]
  },
  {
   "cell_type": "markdown",
   "metadata": {},
   "source": [
    "#### Product id which missing in df_products — 5."
   ]
  },
  {
   "cell_type": "code",
   "execution_count": 22,
   "metadata": {},
   "outputs": [],
   "source": [
    "outer_j = df_order_details.merge(df_products, on=\"product_id\", how=\"outer\")"
   ]
  },
  {
   "cell_type": "code",
   "execution_count": 36,
   "metadata": {},
   "outputs": [
    {
     "data": {
      "text/html": [
       "<div>\n",
       "<style scoped>\n",
       "    .dataframe tbody tr th:only-of-type {\n",
       "        vertical-align: middle;\n",
       "    }\n",
       "\n",
       "    .dataframe tbody tr th {\n",
       "        vertical-align: top;\n",
       "    }\n",
       "\n",
       "    .dataframe thead th {\n",
       "        text-align: right;\n",
       "    }\n",
       "</style>\n",
       "<table border=\"1\" class=\"dataframe\">\n",
       "  <thead>\n",
       "    <tr style=\"text-align: right;\">\n",
       "      <th></th>\n",
       "      <th>order_id</th>\n",
       "      <th>product_id</th>\n",
       "      <th>customer_id</th>\n",
       "      <th>quantity</th>\n",
       "      <th>product_name</th>\n",
       "      <th>category</th>\n",
       "      <th>price</th>\n",
       "    </tr>\n",
       "  </thead>\n",
       "  <tbody>\n",
       "    <tr>\n",
       "      <th>0</th>\n",
       "      <td>103.0</td>\n",
       "      <td>1</td>\n",
       "      <td>202.0</td>\n",
       "      <td>1.0</td>\n",
       "      <td>Laptop</td>\n",
       "      <td>Electronics</td>\n",
       "      <td>1200.0</td>\n",
       "    </tr>\n",
       "    <tr>\n",
       "      <th>1</th>\n",
       "      <td>106.0</td>\n",
       "      <td>1</td>\n",
       "      <td>201.0</td>\n",
       "      <td>2.0</td>\n",
       "      <td>Laptop</td>\n",
       "      <td>Electronics</td>\n",
       "      <td>1200.0</td>\n",
       "    </tr>\n",
       "    <tr>\n",
       "      <th>2</th>\n",
       "      <td>101.0</td>\n",
       "      <td>2</td>\n",
       "      <td>201.0</td>\n",
       "      <td>1.0</td>\n",
       "      <td>Tablet</td>\n",
       "      <td>Electronics</td>\n",
       "      <td>300.0</td>\n",
       "    </tr>\n",
       "    <tr>\n",
       "      <th>3</th>\n",
       "      <td>102.0</td>\n",
       "      <td>2</td>\n",
       "      <td>202.0</td>\n",
       "      <td>2.0</td>\n",
       "      <td>Tablet</td>\n",
       "      <td>Electronics</td>\n",
       "      <td>300.0</td>\n",
       "    </tr>\n",
       "    <tr>\n",
       "      <th>4</th>\n",
       "      <td>104.0</td>\n",
       "      <td>2</td>\n",
       "      <td>204.0</td>\n",
       "      <td>3.0</td>\n",
       "      <td>Tablet</td>\n",
       "      <td>Electronics</td>\n",
       "      <td>300.0</td>\n",
       "    </tr>\n",
       "    <tr>\n",
       "      <th>5</th>\n",
       "      <td>NaN</td>\n",
       "      <td>3</td>\n",
       "      <td>NaN</td>\n",
       "      <td>NaN</td>\n",
       "      <td>Smartphone</td>\n",
       "      <td>Electronics</td>\n",
       "      <td>800.0</td>\n",
       "    </tr>\n",
       "    <tr>\n",
       "      <th>6</th>\n",
       "      <td>105.0</td>\n",
       "      <td>4</td>\n",
       "      <td>203.0</td>\n",
       "      <td>2.0</td>\n",
       "      <td>Smartwatch</td>\n",
       "      <td>Wearables</td>\n",
       "      <td>250.0</td>\n",
       "    </tr>\n",
       "    <tr>\n",
       "      <th>7</th>\n",
       "      <td>107.0</td>\n",
       "      <td>5</td>\n",
       "      <td>202.0</td>\n",
       "      <td>4.0</td>\n",
       "      <td>NaN</td>\n",
       "      <td>NaN</td>\n",
       "      <td>NaN</td>\n",
       "    </tr>\n",
       "  </tbody>\n",
       "</table>\n",
       "</div>"
      ],
      "text/plain": [
       "   order_id  product_id  customer_id  quantity product_name     category  \\\n",
       "0     103.0           1        202.0       1.0       Laptop  Electronics   \n",
       "1     106.0           1        201.0       2.0       Laptop  Electronics   \n",
       "2     101.0           2        201.0       1.0       Tablet  Electronics   \n",
       "3     102.0           2        202.0       2.0       Tablet  Electronics   \n",
       "4     104.0           2        204.0       3.0       Tablet  Electronics   \n",
       "5       NaN           3          NaN       NaN   Smartphone  Electronics   \n",
       "6     105.0           4        203.0       2.0   Smartwatch    Wearables   \n",
       "7     107.0           5        202.0       4.0          NaN          NaN   \n",
       "\n",
       "    price  \n",
       "0  1200.0  \n",
       "1  1200.0  \n",
       "2   300.0  \n",
       "3   300.0  \n",
       "4   300.0  \n",
       "5   800.0  \n",
       "6   250.0  \n",
       "7     NaN  "
      ]
     },
     "execution_count": 36,
     "metadata": {},
     "output_type": "execute_result"
    }
   ],
   "source": [
    "outer_j"
   ]
  },
  {
   "cell_type": "code",
   "execution_count": 34,
   "metadata": {},
   "outputs": [
    {
     "data": {
      "text/html": [
       "<div>\n",
       "<style scoped>\n",
       "    .dataframe tbody tr th:only-of-type {\n",
       "        vertical-align: middle;\n",
       "    }\n",
       "\n",
       "    .dataframe tbody tr th {\n",
       "        vertical-align: top;\n",
       "    }\n",
       "\n",
       "    .dataframe thead th {\n",
       "        text-align: right;\n",
       "    }\n",
       "</style>\n",
       "<table border=\"1\" class=\"dataframe\">\n",
       "  <thead>\n",
       "    <tr style=\"text-align: right;\">\n",
       "      <th></th>\n",
       "      <th>order_id</th>\n",
       "      <th>product_id</th>\n",
       "      <th>customer_id</th>\n",
       "      <th>quantity</th>\n",
       "      <th>product_name</th>\n",
       "      <th>category</th>\n",
       "      <th>price</th>\n",
       "    </tr>\n",
       "  </thead>\n",
       "  <tbody>\n",
       "    <tr>\n",
       "      <th>7</th>\n",
       "      <td>107.0</td>\n",
       "      <td>5</td>\n",
       "      <td>202.0</td>\n",
       "      <td>4.0</td>\n",
       "      <td>NaN</td>\n",
       "      <td>NaN</td>\n",
       "      <td>NaN</td>\n",
       "    </tr>\n",
       "  </tbody>\n",
       "</table>\n",
       "</div>"
      ],
      "text/plain": [
       "   order_id  product_id  customer_id  quantity product_name category  price\n",
       "7     107.0           5        202.0       4.0          NaN      NaN    NaN"
      ]
     },
     "execution_count": 34,
     "metadata": {},
     "output_type": "execute_result"
    }
   ],
   "source": [
    "outer_j[~outer_j.product_id.isin(df_products.product_id.unique())]"
   ]
  }
 ],
 "metadata": {
  "kernelspec": {
   "display_name": "Python 3",
   "language": "python",
   "name": "python3"
  },
  "language_info": {
   "codemirror_mode": {
    "name": "ipython",
    "version": 3
   },
   "file_extension": ".py",
   "mimetype": "text/x-python",
   "name": "python",
   "nbconvert_exporter": "python",
   "pygments_lexer": "ipython3",
   "version": "3.10.15"
  }
 },
 "nbformat": 4,
 "nbformat_minor": 2
}
