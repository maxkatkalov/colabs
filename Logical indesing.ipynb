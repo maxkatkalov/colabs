{
 "cells": [
  {
   "cell_type": "code",
   "execution_count": 1,
   "metadata": {},
   "outputs": [],
   "source": [
    "import numpy as np"
   ]
  },
  {
   "cell_type": "markdown",
   "metadata": {},
   "source": [
    "#### Скопіюй у нього масив кількості кліків по рекламному банеру, який ми створили у першому завданні."
   ]
  },
  {
   "cell_type": "code",
   "execution_count": 3,
   "metadata": {},
   "outputs": [
    {
     "data": {
      "text/plain": [
       "array([5353, 8063, 3021, 6054, 8617,  733, 2972,  792,  334, 6195,  305,\n",
       "       9083, 1082, 1032, 1282, 1766, 3105, 3024, 2089, 8554, 4941, 1886,\n",
       "       5350, 6152, 9930, 4635, 6266, 4197, 3141, 5442, 1082, 2244, 7162,\n",
       "       7895, 8385, 2124, 4668, 1114, 7165, 6178, 9572, 2900, 3301,  884,\n",
       "       9127, 7052, 3281, 2279, 7859,  233, 7249, 1679, 4359, 7051, 9557,\n",
       "       5583, 8358, 1351, 7456, 8814])"
      ]
     },
     "execution_count": 3,
     "metadata": {},
     "output_type": "execute_result"
    }
   ],
   "source": [
    "ad_clicks = np.random.randint(100, 10000, 60)\n",
    "ad_clicks"
   ]
  },
  {
   "cell_type": "markdown",
   "metadata": {},
   "source": [
    "#### Виведи на екран елементи масиву з кількістю кліків більше ніж 8000."
   ]
  },
  {
   "cell_type": "code",
   "execution_count": 12,
   "metadata": {},
   "outputs": [
    {
     "data": {
      "text/plain": [
       "array([8063, 8617, 9083, 8554, 9930, 8385, 9572, 9127, 9557, 8358, 8814])"
      ]
     },
     "execution_count": 12,
     "metadata": {},
     "output_type": "execute_result"
    }
   ],
   "source": [
    "more_than_eight_thsnd_mask = ad_clicks > 8000\n",
    "more_than_eight_thsnd_values = ad_clicks[more_than_eight_thsnd_mask]\n",
    "more_than_eight_thsnd_values"
   ]
  },
  {
   "cell_type": "markdown",
   "metadata": {},
   "source": [
    "#### Виведи на екран кількість таких значень."
   ]
  },
  {
   "cell_type": "code",
   "execution_count": 11,
   "metadata": {},
   "outputs": [
    {
     "data": {
      "text/plain": [
       "11"
      ]
     },
     "execution_count": 11,
     "metadata": {},
     "output_type": "execute_result"
    }
   ],
   "source": [
    "more_than_eight_thsnd_values.size"
   ]
  },
  {
   "cell_type": "markdown",
   "metadata": {},
   "source": [
    "##### Порахуй відсоток значень та виведи результати на екран:\n",
    "* понад 4000 кліків;\n",
    "* не більше 1000;\n",
    "* між 5000 та 7500 кліками."
   ]
  },
  {
   "cell_type": "code",
   "execution_count": 31,
   "metadata": {},
   "outputs": [],
   "source": [
    "\"\"\"masks created for slicing 'ad_clicks' array\"\"\"\n",
    "more_than_four_thsnd_mask = ad_clicks > 4000\n",
    "not_more_than_one_thsnd_mask = ad_clicks <= 1000\n",
    "not_more_than_range_mask = (ad_clicks >= 5000) & (ad_clicks <= 7500)"
   ]
  },
  {
   "cell_type": "code",
   "execution_count": 32,
   "metadata": {},
   "outputs": [
    {
     "data": {
      "text/plain": [
       "'Percentage of values greater than 4000: 55.0'"
      ]
     },
     "execution_count": 32,
     "metadata": {},
     "output_type": "execute_result"
    }
   ],
   "source": [
    "f'Percentage of values greater than 4000: {round(ad_clicks[more_than_four_thsnd_mask].size / ad_clicks.size * 100, 2)}'"
   ]
  },
  {
   "cell_type": "code",
   "execution_count": 33,
   "metadata": {},
   "outputs": [
    {
     "data": {
      "text/plain": [
       "'Percentage of values equal or fewer than 1000: 10.0'"
      ]
     },
     "execution_count": 33,
     "metadata": {},
     "output_type": "execute_result"
    }
   ],
   "source": [
    "f'Percentage of values equal or fewer than 1000: {round(ad_clicks[not_more_than_one_thsnd_mask].size / ad_clicks.size * 100, 2)}'"
   ]
  },
  {
   "cell_type": "code",
   "execution_count": 34,
   "metadata": {},
   "outputs": [
    {
     "data": {
      "text/plain": [
       "'Percentage of values in the range 5000 - 7500: 25.0'"
      ]
     },
     "execution_count": 34,
     "metadata": {},
     "output_type": "execute_result"
    }
   ],
   "source": [
    "f'Percentage of values in the range 5000 - 7500: {round(ad_clicks[not_more_than_range_mask].size / ad_clicks.size * 100, 2)}'"
   ]
  },
  {
   "cell_type": "code",
   "execution_count": null,
   "metadata": {},
   "outputs": [],
   "source": []
  }
 ],
 "metadata": {
  "kernelspec": {
   "display_name": "Python 3",
   "language": "python",
   "name": "python3"
  },
  "language_info": {
   "codemirror_mode": {
    "name": "ipython",
    "version": 3
   },
   "file_extension": ".py",
   "mimetype": "text/x-python",
   "name": "python",
   "nbconvert_exporter": "python",
   "pygments_lexer": "ipython3",
   "version": "3.10.15"
  }
 },
 "nbformat": 4,
 "nbformat_minor": 2
}
