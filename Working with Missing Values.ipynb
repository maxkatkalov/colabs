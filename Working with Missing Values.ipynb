{
 "cells": [
  {
   "cell_type": "code",
   "execution_count": 104,
   "metadata": {},
   "outputs": [],
   "source": [
    "import pandas as pd"
   ]
  },
  {
   "cell_type": "code",
   "execution_count": 105,
   "metadata": {},
   "outputs": [],
   "source": [
    "data = {\n",
    "    \"order_id\": [1001, 1002, 1003, 1004, 1005, 1006, 1007],\n",
    "    \"customer_name\": [\"Alice\", \"Bob\", None, \"David\", \"Eva\", \"Frank\", None],\n",
    "    \"product_category\": [\"Electronics\", \"Clothing\", \"Electronics\", \"Books\", None, \"Clothing\", \"Books\"],\n",
    "    \"quantity\": [2, 1, None, 1, 3, None, 4],\n",
    "    \"unit_price\": [299.99, 49.99, 199.99, None, 15.99, 79.99, 12.99],\n",
    "    \"order_date\": [\"2024-08-01\", \"2024-08-02\", \"2024-08-03\", \"2024-08-04\", \"2024-08-05\", \"2024-08-06\", None]\n",
    "}\n",
    "\n",
    "df = pd.DataFrame(data)"
   ]
  },
  {
   "cell_type": "code",
   "execution_count": 106,
   "metadata": {},
   "outputs": [
    {
     "data": {
      "text/plain": [
       "order_id            0\n",
       "customer_name       2\n",
       "product_category    1\n",
       "quantity            2\n",
       "unit_price          1\n",
       "order_date          1\n",
       "dtype: int64"
      ]
     },
     "execution_count": 106,
     "metadata": {},
     "output_type": "execute_result"
    }
   ],
   "source": [
    "df.isna().sum()"
   ]
  },
  {
   "cell_type": "code",
   "execution_count": 107,
   "metadata": {},
   "outputs": [
    {
     "data": {
      "text/plain": [
       "0    0\n",
       "1    0\n",
       "2    2\n",
       "3    1\n",
       "4    1\n",
       "5    1\n",
       "6    2\n",
       "dtype: int64"
      ]
     },
     "execution_count": 107,
     "metadata": {},
     "output_type": "execute_result"
    }
   ],
   "source": [
    "df.isna().sum(axis=1)"
   ]
  },
  {
   "cell_type": "markdown",
   "metadata": {},
   "source": [
    "#### Знайди відсоток пропущених значень у кожному рядку та стовпчику. Чи є такі рядки або стовпчики, в яких доля пропусків більше ніж 50%? Якщо так, видали їх з датасету."
   ]
  },
  {
   "cell_type": "code",
   "execution_count": 138,
   "metadata": {},
   "outputs": [],
   "source": [
    "# drop rows with missing values\n",
    "nan_in_rows = df.isna().sum(axis=1) / df.shape[1] * 100\n",
    "df = df[nan_in_rows < 50]"
   ]
  },
  {
   "cell_type": "code",
   "execution_count": 139,
   "metadata": {},
   "outputs": [],
   "source": [
    "# drop columns with missing values\n",
    "nan_in_columns = df.isna().sum() / df.shape[0] * 100\n",
    "df.drop(df.columns[nan_in_columns > 50], axis=1, inplace=True)"
   ]
  },
  {
   "cell_type": "markdown",
   "metadata": {},
   "source": [
    "#### Заповни пропущені значення в стовпці customer_name рядком \"Unknown\". Збережи отриманий результат у цьому ж стовпчику."
   ]
  },
  {
   "cell_type": "code",
   "execution_count": 118,
   "metadata": {},
   "outputs": [
    {
     "data": {
      "text/plain": [
       "0      Alice\n",
       "1        Bob\n",
       "2    Unknown\n",
       "3      David\n",
       "4        Eva\n",
       "5      Frank\n",
       "6    Unknown\n",
       "Name: customer_name, dtype: object"
      ]
     },
     "execution_count": 118,
     "metadata": {},
     "output_type": "execute_result"
    }
   ],
   "source": [
    "df.loc[:, 'customer_name'].fillna('Unknown', inplace=True)\n",
    "df.loc[:, 'customer_name']"
   ]
  },
  {
   "cell_type": "markdown",
   "metadata": {},
   "source": [
    "#### Заповни пропущені значення в стовпці product_category рядком \"Miscellaneous\". Збережи отриманий результат у цьому ж стовпчику"
   ]
  },
  {
   "cell_type": "code",
   "execution_count": 119,
   "metadata": {},
   "outputs": [
    {
     "data": {
      "text/plain": [
       "0      Electronics\n",
       "1         Clothing\n",
       "2      Electronics\n",
       "3            Books\n",
       "4    Miscellaneous\n",
       "5         Clothing\n",
       "6            Books\n",
       "Name: product_category, dtype: object"
      ]
     },
     "execution_count": 119,
     "metadata": {},
     "output_type": "execute_result"
    }
   ],
   "source": [
    "df.loc[:, 'product_category'].fillna('Miscellaneous', inplace=True)\n",
    "df.loc[:, 'product_category']"
   ]
  },
  {
   "cell_type": "markdown",
   "metadata": {},
   "source": [
    "#### Заповни пропущені значення в стовпцях quantity та unit_price середнім значенням відповідного стовпця. Збережи отриманий результат у цьому ж стовпчику."
   ]
  },
  {
   "cell_type": "code",
   "execution_count": 130,
   "metadata": {},
   "outputs": [
    {
     "data": {
      "text/plain": [
       "0    2.0\n",
       "1    1.0\n",
       "2    2.2\n",
       "3    1.0\n",
       "4    3.0\n",
       "5    2.2\n",
       "6    4.0\n",
       "Name: quantity, dtype: float64"
      ]
     },
     "execution_count": 130,
     "metadata": {},
     "output_type": "execute_result"
    }
   ],
   "source": [
    "df['quantity'].fillna(df['quantity'].mean(), inplace=True)\n",
    "df['quantity']"
   ]
  },
  {
   "cell_type": "code",
   "execution_count": 132,
   "metadata": {},
   "outputs": [
    {
     "data": {
      "text/plain": [
       "0    299.990000\n",
       "1     49.990000\n",
       "2    199.990000\n",
       "3    109.823333\n",
       "4     15.990000\n",
       "5     79.990000\n",
       "6     12.990000\n",
       "Name: unit_price, dtype: float64"
      ]
     },
     "execution_count": 132,
     "metadata": {},
     "output_type": "execute_result"
    }
   ],
   "source": [
    "df['unit_price'].fillna(df['unit_price'].mean(), inplace=True)\n",
    "df['unit_price']"
   ]
  },
  {
   "cell_type": "markdown",
   "metadata": {},
   "source": [
    "#### Заповни пропущені значення в стовпці order_date останньою відомою датою замовлення. Збережи отриманий результат у цьому ж стовпчику."
   ]
  },
  {
   "cell_type": "code",
   "execution_count": 137,
   "metadata": {},
   "outputs": [
    {
     "data": {
      "text/plain": [
       "0    2024-08-01\n",
       "1    2024-08-02\n",
       "2    2024-08-03\n",
       "3    2024-08-04\n",
       "4    2024-08-05\n",
       "5    2024-08-06\n",
       "6    2024-08-06\n",
       "Name: order_date, dtype: object"
      ]
     },
     "execution_count": 137,
     "metadata": {},
     "output_type": "execute_result"
    }
   ],
   "source": [
    "df.loc[:, 'order_date'].ffill(inplace=True)\n",
    "df.loc[:, 'order_date']"
   ]
  }
 ],
 "metadata": {
  "kernelspec": {
   "display_name": "Python 3",
   "language": "python",
   "name": "python3"
  },
  "language_info": {
   "codemirror_mode": {
    "name": "ipython",
    "version": 3
   },
   "file_extension": ".py",
   "mimetype": "text/x-python",
   "name": "python",
   "nbconvert_exporter": "python",
   "pygments_lexer": "ipython3",
   "version": "3.10.15"
  }
 },
 "nbformat": 4,
 "nbformat_minor": 2
}
